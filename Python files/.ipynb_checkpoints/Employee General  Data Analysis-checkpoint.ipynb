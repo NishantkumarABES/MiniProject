{
 "cells": [
  {
   "cell_type": "markdown",
   "id": "02f360fe",
   "metadata": {},
   "source": [
    "# Extracting Data  From Excel Files And Importing Libraries."
   ]
  },
  {
   "cell_type": "code",
   "execution_count": 1,
   "id": "c2f12f02",
   "metadata": {},
   "outputs": [],
   "source": [
    "import pandas as pd\n",
    "import matplotlib.pyplot as plt\n",
    "import numpy as np\n",
    "import sklearn as sk\n",
    "Employee_survey_data=pd.read_csv(r\"D:\\User Data\\Desktop\\nishant\\foxmula\\1.hr-analytics-case-study\\employee_survey_data.csv\")\n",
    "general_data=pd.read_csv(r\"D:\\User Data\\Desktop\\nishant\\foxmula\\1.hr-analytics-case-study\\general_data.csv\")\n",
    "in_time=pd.read_csv(r\"D:\\User Data\\Desktop\\nishant\\foxmula\\1.hr-analytics-case-study\\in_time.csv\")\n",
    "out_time=pd.read_csv(r\"D:\\User Data\\Desktop\\nishant\\foxmula\\1.hr-analytics-case-study\\out_time.csv\")\n",
    "manager_survey_data=pd.read_csv(r\"D:\\User Data\\Desktop\\nishant\\foxmula\\1.hr-analytics-case-study\\manager_survey_data.csv\")"
   ]
  },
  {
   "cell_type": "markdown",
   "id": "5d38a8ec",
   "metadata": {},
   "source": [
    "# Employee survey data  "
   ]
  },
  {
   "cell_type": "code",
   "execution_count": 44,
   "id": "0c2886c7",
   "metadata": {},
   "outputs": [
    {
     "name": "stdout",
     "output_type": "stream",
     "text": [
      "   EmployeeID  EnvironmentSatisfaction  JobSatisfaction  WorkLifeBalance\n",
      "0           1                      3.0              4.0              2.0\n",
      "1           2                      3.0              2.0              4.0\n",
      "2           3                      2.0              2.0              1.0\n",
      "3           4                      4.0              4.0              3.0\n",
      "4           5                      4.0              1.0              3.0\n"
     ]
    }
   ],
   "source": [
    "print(Employee_survey_data.head())"
   ]
  },
  {
   "cell_type": "markdown",
   "id": "b6ad3936",
   "metadata": {},
   "source": [
    "# Results using Employee survey data."
   ]
  },
  {
   "cell_type": "code",
   "execution_count": 7,
   "id": "7844f16c",
   "metadata": {},
   "outputs": [
    {
     "name": "stdout",
     "output_type": "stream",
     "text": [
      "Total number of employee:  4410 \n",
      "\n",
      "Average Environment Satisfaction of employee(out of 5):  2.7236031927023947\n",
      "NUmber of Empty entey in Environment Satisfaction:  25 \n",
      "\n",
      "Average Job Satisfaction of employee(out of 5):  2.728246013667426\n",
      "NUmber of Empty entey in Job Satisfaction:  20 \n",
      "\n",
      "Average Work Life Balance of employee(out of 5):  2.7614364135407135\n",
      "NUmber of Empty entey in Work Life Balance:  38 \n",
      "\n"
     ]
    }
   ],
   "source": [
    "shape=Employee_survey_data.shape\n",
    "number_employee=shape[0]\n",
    "print(\"Total number of employee: \",number_employee,\"\\n\")\n",
    "EnvironmentSatisfaction_total=0\n",
    "JobSatisfaction_total=0\n",
    "WorkLifeBalance_total=0\n",
    "Empty_value_1=list(Employee_survey_data.EnvironmentSatisfaction.isnull())\n",
    "Empty_value_2=list(Employee_survey_data.JobSatisfaction.isnull())\n",
    "Empty_value_3=list(Employee_survey_data.WorkLifeBalance.isnull())\n",
    "No_empty_1=0\n",
    "No_empty_2=0\n",
    "No_empty_3=0\n",
    "for i in range(number_employee):\n",
    "    if Empty_value_1[i]==False:\n",
    "        EnvironmentSatisfaction_total+=Employee_survey_data.EnvironmentSatisfaction[i]\n",
    "    else:\n",
    "        No_empty_1+=1\n",
    "for i in range(number_employee):\n",
    "    if Empty_value_2[i]==False:\n",
    "        JobSatisfaction_total+=Employee_survey_data.JobSatisfaction[i]\n",
    "    else:\n",
    "        No_empty_2+=1\n",
    "for i in range(number_employee):\n",
    "    if Empty_value_3[i]==False:\n",
    "        WorkLifeBalance_total+=Employee_survey_data.WorkLifeBalance[i]\n",
    "    else:\n",
    "        No_empty_3+=1\n",
    "print(\"Average Environment Satisfaction of employee(out of 5): \",(EnvironmentSatisfaction_total/(number_employee-No_empty_1)))\n",
    "print(\"NUmber of Empty entey in Environment Satisfaction: \",No_empty_1,\"\\n\")\n",
    "print(\"Average Job Satisfaction of employee(out of 5): \",(JobSatisfaction_total/(number_employee-No_empty_2)))\n",
    "print(\"NUmber of Empty entey in Job Satisfaction: \",No_empty_2,\"\\n\")\n",
    "print(\"Average Work Life Balance of employee(out of 5): \",(WorkLifeBalance_total/(number_employee-No_empty_3)))\n",
    "print(\"NUmber of Empty entey in Work Life Balance: \",No_empty_3,\"\\n\")\n",
    "EnvironmentSatisfaction=list(Employee_survey_data.EnvironmentSatisfaction)\n"
   ]
  },
  {
   "cell_type": "markdown",
   "id": "4a9a686e",
   "metadata": {},
   "source": [
    "# General Data of employee."
   ]
  },
  {
   "cell_type": "code",
   "execution_count": 7,
   "id": "55fffac3",
   "metadata": {},
   "outputs": [
    {
     "name": "stdout",
     "output_type": "stream",
     "text": [
      "   Age Attrition     BusinessTravel              Department  DistanceFromHome\n",
      "0   51        No      Travel_Rarely                   Sales                 6\n",
      "1   31       Yes  Travel_Frequently  Research & Development                10\n",
      "2   32        No  Travel_Frequently  Research & Development                17\n",
      "3   38        No         Non-Travel  Research & Development                 2\n",
      "4   32        No      Travel_Rarely  Research & Development                10\n"
     ]
    }
   ],
   "source": [
    "print(general_data.iloc[0:5,0:5])"
   ]
  },
  {
   "cell_type": "code",
   "execution_count": 12,
   "id": "27c3e880",
   "metadata": {},
   "outputs": [
    {
     "name": "stdout",
     "output_type": "stream",
     "text": [
      "   Education EducationField  EmployeeCount  EmployeeID  Gender\n",
      "0          2  Life Sciences              1           1  Female\n",
      "1          1  Life Sciences              1           2  Female\n",
      "2          4          Other              1           3    Male\n",
      "3          5  Life Sciences              1           4    Male\n",
      "4          1        Medical              1           5    Male\n"
     ]
    }
   ],
   "source": [
    "print(general_data.iloc[0:5,5:10])\n"
   ]
  },
  {
   "cell_type": "code",
   "execution_count": 14,
   "id": "5ea53eb2",
   "metadata": {},
   "outputs": [
    {
     "name": "stdout",
     "output_type": "stream",
     "text": [
      "   JobLevel                    JobRole MaritalStatus  MonthlyIncome\n",
      "0         1  Healthcare Representative       Married         131160\n",
      "1         1         Research Scientist        Single          41890\n",
      "2         4            Sales Executive       Married         193280\n",
      "3         3            Human Resources       Married          83210\n",
      "4         1            Sales Executive        Single          23420\n"
     ]
    }
   ],
   "source": [
    "print(general_data.iloc[0:5,10:14])"
   ]
  },
  {
   "cell_type": "code",
   "execution_count": 16,
   "id": "330c9d22",
   "metadata": {},
   "outputs": [
    {
     "name": "stdout",
     "output_type": "stream",
     "text": [
      "   NumCompaniesWorked Over18  PercentSalaryHike  StandardHours\n",
      "0                 1.0      Y                 11              8\n",
      "1                 0.0      Y                 23              8\n",
      "2                 1.0      Y                 15              8\n",
      "3                 3.0      Y                 11              8\n",
      "4                 4.0      Y                 12              8\n"
     ]
    }
   ],
   "source": [
    "print(general_data.iloc[0:5,14:18])"
   ]
  },
  {
   "cell_type": "code",
   "execution_count": 18,
   "id": "0e9a9d07",
   "metadata": {
    "scrolled": true
   },
   "outputs": [
    {
     "name": "stdout",
     "output_type": "stream",
     "text": [
      "   StockOptionLevel  TotalWorkingYears  TrainingTimesLastYear  YearsAtCompany\n",
      "0                 0                1.0                      6               1\n",
      "1                 1                6.0                      3               5\n",
      "2                 3                5.0                      2               5\n",
      "3                 3               13.0                      5               8\n",
      "4                 2                9.0                      2               6\n"
     ]
    }
   ],
   "source": [
    "print(general_data.iloc[0:5,18:22])"
   ]
  },
  {
   "cell_type": "code",
   "execution_count": 23,
   "id": "8a0f96eb",
   "metadata": {},
   "outputs": [
    {
     "name": "stdout",
     "output_type": "stream",
     "text": [
      "   YearsSinceLastPromotion  YearsWithCurrManager\n",
      "0                        0                     0\n",
      "1                        1                     4\n",
      "2                        0                     3\n",
      "3                        7                     5\n",
      "4                        0                     4\n"
     ]
    }
   ],
   "source": [
    "print(general_data.iloc[0:5,22:24])"
   ]
  },
  {
   "cell_type": "markdown",
   "id": "7bbb2935",
   "metadata": {},
   "source": [
    "# Results Using general data."
   ]
  },
  {
   "cell_type": "code",
   "execution_count": 3,
   "id": "46dc545c",
   "metadata": {},
   "outputs": [
    {
     "name": "stdout",
     "output_type": "stream",
     "text": [
      "Number of employee leave:  711 \n",
      "\n",
      "Number of employee retain:  3699 \n",
      "\n",
      "Total Number of Employee:  4410 \n",
      "\n",
      "Attrition Rate of this year:  16.122448979591837 %\n"
     ]
    }
   ],
   "source": [
    "Number_of_emp_leave=0\n",
    "Number_of_emp_retain=0\n",
    "shape=general_data.shape\n",
    "index_emp_leave=[]\n",
    "for i in range(shape[0]):\n",
    "    if general_data.Attrition[i] == \"Yes\":\n",
    "        Number_of_emp_leave+=1\n",
    "        index_emp_leave.append(i)\n",
    "    else:\n",
    "        Number_of_emp_retain+=1\n",
    "print(\"Number of employee leave: \",Number_of_emp_leave,\"\\n\")\n",
    "print(\"Number of employee retain: \",Number_of_emp_retain,\"\\n\")\n",
    "print(\"Total Number of Employee: \",Number_of_emp_leave+Number_of_emp_retain,\"\\n\")\n",
    "attrition_rate=((Number_of_emp_leave)/(Number_of_emp_leave+Number_of_emp_retain))*100\n",
    "print(\"Attrition Rate of this year: \",attrition_rate,\"%\")"
   ]
  },
  {
   "cell_type": "markdown",
   "id": "be1b30d8",
   "metadata": {},
   "source": [
    "# Department wise attrition."
   ]
  },
  {
   "cell_type": "code",
   "execution_count": 56,
   "id": "a6718d07",
   "metadata": {},
   "outputs": [
    {
     "name": "stdout",
     "output_type": "stream",
     "text": [
      "Number of employee leave(in Sales Department):  453 \n",
      "\n",
      "Number of employee retain(in Sales Department):  2430 \n",
      "\n",
      "Total Number of Employee(in Sales Department):  2883 \n",
      "\n",
      "Attrition Rate of this year(in Sales Department):  15.71279916753382 %\n",
      "---------------------------------------------------------------------------\n",
      "Number of employee leave(in Human Resource Department):  201 \n",
      "\n",
      "Number of employee retain(in Human Resource Department):  1137 \n",
      "\n",
      "Total Number of Employee(in Human Resource Department):  1338 \n",
      "\n",
      "Attrition Rate of this year(in Human Resource Department):  15.022421524663676 %\n",
      "---------------------------------------------------------------------------\n",
      "Number of employee leave(in Research & Development Department):  57 \n",
      "\n",
      "Number of employee retain(in Research & Development Department):  132 \n",
      "\n",
      "Total Number of Employee(in Research & Development Department):  189 \n",
      "\n",
      "Attrition Rate of this year(in Research & Development Department):  30.158730158730158 %\n"
     ]
    }
   ],
   "source": [
    "Departments=list(set(general_data.Department))\n",
    "Number_of_emp_leave_sales=0\n",
    "Number_of_emp_retain_sales=0\n",
    "Number_of_emp_sales=0\n",
    "Number_of_emp_leave_hr=0\n",
    "Number_of_emp_retain_hr=0\n",
    "Number_of_emp_hr=0\n",
    "Number_of_emp_leave_rd=0\n",
    "Number_of_emp_retain_rd=0\n",
    "Number_of_emp_rd=0\n",
    "shape=general_data.shape\n",
    "for i in range(shape[0]):\n",
    "    if general_data.Attrition[i] == \"Yes\":\n",
    "        if general_data.Department[i]==Departments[0]:\n",
    "            Number_of_emp_leave_sales+=1\n",
    "            Number_of_emp_sales+=1\n",
    "        elif general_data.Department[i]==Departments[1]:\n",
    "            Number_of_emp_leave_hr+=1\n",
    "            Number_of_emp_hr+=1\n",
    "        else:\n",
    "            Number_of_emp_leave_rd+=1\n",
    "            Number_of_emp_rd+=1\n",
    "    else:\n",
    "        if general_data.Department[i]==Departments[0]:\n",
    "            Number_of_emp_retain_sales+=1\n",
    "            Number_of_emp_sales+=1\n",
    "        elif general_data.Department[i]==Departments[1]:\n",
    "            Number_of_emp_retain_hr+=1\n",
    "            Number_of_emp_hr+=1\n",
    "        else:\n",
    "            Number_of_emp_retain_rd+=1\n",
    "            Number_of_emp_rd+=1\n",
    "data=[]\n",
    "print(\"Number of employee leave(in Sales Department): \",Number_of_emp_leave_sales,\"\\n\")\n",
    "print(\"Number of employee retain(in Sales Department): \",Number_of_emp_retain_sales,\"\\n\")\n",
    "print(\"Total Number of Employee(in Sales Department): \",Number_of_emp_sales,\"\\n\")\n",
    "attrition_rate_sales=((Number_of_emp_leave_sales)/(Number_of_emp_sales))*100\n",
    "print(\"Attrition Rate of this year(in Sales Department): \",attrition_rate_sales,\"%\")\n",
    "print(\"---------------------------------------------------------------------------\")\n",
    "print(\"Number of employee leave(in Human Resource Department): \",Number_of_emp_leave_hr,\"\\n\")\n",
    "print(\"Number of employee retain(in Human Resource Department): \",Number_of_emp_retain_hr,\"\\n\")\n",
    "print(\"Total Number of Employee(in Human Resource Department): \",Number_of_emp_hr,\"\\n\")\n",
    "attrition_rate_hr=((Number_of_emp_leave_hr)/(Number_of_emp_hr))*100\n",
    "print(\"Attrition Rate of this year(in Human Resource Department): \",attrition_rate_hr,\"%\")\n",
    "print(\"---------------------------------------------------------------------------\")\n",
    "print(\"Number of employee leave(in Research & Development Department): \",Number_of_emp_leave_rd,\"\\n\")\n",
    "print(\"Number of employee retain(in Research & Development Department): \",Number_of_emp_retain_rd,\"\\n\")\n",
    "print(\"Total Number of Employee(in Research & Development Department): \",Number_of_emp_rd,\"\\n\")\n",
    "attrition_rate_rd=((Number_of_emp_leave_rd)/(Number_of_emp_rd))*100\n",
    "print(\"Attrition Rate of this year(in Research & Development Department): \",attrition_rate_rd,\"%\")\n",
    "data.append(Number_of_emp_leave_rd)\n",
    "data.append(Number_of_emp_leave_sales)\n",
    "data.append(Number_of_emp_leave_hr)\n"
   ]
  },
  {
   "cell_type": "code",
   "execution_count": 77,
   "id": "3a5e7580",
   "metadata": {},
   "outputs": [
    {
     "data": {
      "image/png": "[encoded data removed]",
      "text/plain": [
       "<Figure size 432x288 with 1 Axes>"
      ]
     },
     "metadata": {
      "needs_background": "light"
     },
     "output_type": "display_data"
    },
    {
     "data": {
      "image/png": "[encoded data removed]",
      "text/plain": [
       "<Figure size 432x288 with 1 Axes>"
      ]
     },
     "metadata": {},
     "output_type": "display_data"
    }
   ],
   "source": [
    "plt.bar(Departments,data,color=[\"red\",\"blue\",\"green\"],width=0.5)\n",
    "plt.title(\"Attrition in Department\")\n",
    "plt.xlabel(\"Departments-->\")\n",
    "plt.ylabel(\"Number of Employess-->\")\n",
    "plt.show()\n",
    "expl=[0.2,0,0]\n",
    "plt.pie(data,labels=Departments,explode=expl,autopct=\"%0.1f%%\")\n",
    "plt.axis(\"equal\")\n",
    "plt.show()"
   ]
  },
  {
   "cell_type": "markdown",
   "id": "ed7b0cd1",
   "metadata": {},
   "source": [
    "# Attrition by age"
   ]
  },
  {
   "cell_type": "code",
   "execution_count": 72,
   "id": "187d5c62",
   "metadata": {},
   "outputs": [
    {
     "name": "stdout",
     "output_type": "stream",
     "text": [
      "Number of Employee leave between(18 to 30):  273 \n",
      "\n",
      "Number of Employee leave between(30 to 40):  267 \n",
      "\n",
      "Number of Employee leave between(40 to 50):  102 \n",
      "\n",
      "Number of Employee leave above 50:  69 \n",
      "\n"
     ]
    },
    {
     "data": {
      "image/png": "[encoded data removed]",
      "text/plain": [
       "<Figure size 432x288 with 1 Axes>"
      ]
     },
     "metadata": {},
     "output_type": "display_data"
    }
   ],
   "source": [
    "emp_leave_18to30=0\n",
    "emp_leave_30to40=0\n",
    "emp_leave_40to50=0\n",
    "emp_leave_above_50=0\n",
    "d=0\n",
    "for i in index_emp_leave:\n",
    "    x=general_data.Age[i]\n",
    "    if x>=18 and x<30:\n",
    "        emp_leave_18to30+=1\n",
    "    elif x>=30 and x<40:\n",
    "        emp_leave_30to40+=1\n",
    "    elif x>=40 and x<50:\n",
    "        emp_leave_40to50+=1\n",
    "    else:\n",
    "        emp_leave_above_50+=1\n",
    "print(\"Number of Employee leave between(18 to 30): \",emp_leave_18to30,\"\\n\")\n",
    "print(\"Number of Employee leave between(30 to 40): \",emp_leave_30to40,\"\\n\")\n",
    "print(\"Number of Employee leave between(40 to 50): \",emp_leave_40to50,\"\\n\")\n",
    "print(\"Number of Employee leave above 50: \",emp_leave_above_50,\"\\n\")\n",
    "age_dist=[\"18 To 30 year\",\"30 To 40 year\",\"40 To 50 year\",\"Above 50 year\"]\n",
    "expl=[0,0,0,0.2]\n",
    "plt.pie([273,267,102,69],labels=age_dist,explode=expl,autopct=\"%0.1f%%\")\n",
    "plt.axis(\"equal\")\n",
    "plt.show()"
   ]
  },
  {
   "cell_type": "code",
   "execution_count": 6,
   "id": "b8eff284",
   "metadata": {},
   "outputs": [
    {
     "data": {
      "text/plain": [
       "<function matplotlib.pyplot.show(close=None, block=None)>"
      ]
     },
     "execution_count": 6,
     "metadata": {},
     "output_type": "execute_result"
    },
    {
     "data": {
      "image/png": "[encoded data removed]",
      "text/plain": [
       "<Figure size 432x288 with 1 Axes>"
      ]
     },
     "metadata": {
      "needs_background": "light"
     },
     "output_type": "display_data"
    }
   ],
   "source": [
    "dist_form_home=list(general_data.DistanceFromHome)\n",
    "emp_in_range_0to5=0\n",
    "emp_in_range_5to10=0\n",
    "emp_in_range_10to15=0\n",
    "emp_in_range_15to20=0\n",
    "emp_in_range_20to25=0\n",
    "emp_in_range_25to30=0\n",
    "for i in index_emp_leave:\n",
    "    x=dist_form_home[i]\n",
    "    if x>=0 and x<5:\n",
    "        emp_in_range_0to5+=1\n",
    "    elif x>=5 and x<10:\n",
    "        emp_in_range_5to10+=1\n",
    "    elif x>=10 and x<15:\n",
    "        emp_in_range_10to15+=1\n",
    "    elif x>=15 and x<20:\n",
    "        emp_in_range_15to20+=1\n",
    "    elif x>=20 and x<25:\n",
    "        emp_in_range_20to25+=1\n",
    "    else:\n",
    "        emp_in_range_25to30+=1\n",
    "l=[emp_in_range_0to5,emp_in_range_5to10,emp_in_range_10to15,emp_in_range_15to20,emp_in_range_20to25,emp_in_range_25to30]\n",
    "x=[5,10,15,20,25,30]\n",
    "plt.xlabel(\"Distance(in KM)--->\")\n",
    "plt.ylabel(\"No. of Employee-->\")\n",
    "plt.bar(x,l)\n",
    "plt.show"
   ]
  },
  {
   "cell_type": "code",
   "execution_count": 3,
   "id": "661abcd1",
   "metadata": {},
   "outputs": [
    {
     "name": "stdout",
     "output_type": "stream",
     "text": [
      "   EmployeeID  JobInvolvement  PerformanceRating\n",
      "0           1               3                  3\n",
      "1           2               2                  4\n",
      "2           3               3                  3\n",
      "3           4               2                  3\n",
      "4           5               3                  3\n",
      "(4410, 3)\n"
     ]
    }
   ],
   "source": [
    "print(manager_survey_data.head())\n",
    "print(manager_survey_data.shape)"
   ]
  },
  {
   "cell_type": "markdown",
   "id": "bdf4a88c",
   "metadata": {},
   "source": [
    "## Cheking Null Value and Treating Null Value"
   ]
  },
  {
   "cell_type": "code",
   "execution_count": 4,
   "id": "c77d8538",
   "metadata": {},
   "outputs": [
    {
     "name": "stdout",
     "output_type": "stream",
     "text": [
      "<class 'pandas.core.frame.DataFrame'>\n",
      "RangeIndex: 4410 entries, 0 to 4409\n",
      "Data columns (total 4 columns):\n",
      " #   Column                   Non-Null Count  Dtype  \n",
      "---  ------                   --------------  -----  \n",
      " 0   EmployeeID               4410 non-null   int64  \n",
      " 1   EnvironmentSatisfaction  4385 non-null   float64\n",
      " 2   JobSatisfaction          4390 non-null   float64\n",
      " 3   WorkLifeBalance          4372 non-null   float64\n",
      "dtypes: float64(3), int64(1)\n",
      "memory usage: 137.9 KB\n"
     ]
    }
   ],
   "source": [
    "Employee_survey_data.info()"
   ]
  },
  {
   "cell_type": "code",
   "execution_count": 5,
   "id": "beb2fe43",
   "metadata": {},
   "outputs": [
    {
     "data": {
      "text/plain": [
       "EmployeeID                 0.000000\n",
       "EnvironmentSatisfaction    0.005669\n",
       "JobSatisfaction            0.004535\n",
       "WorkLifeBalance            0.008617\n",
       "dtype: float64"
      ]
     },
     "execution_count": 5,
     "metadata": {},
     "output_type": "execute_result"
    }
   ],
   "source": [
    "Employee_survey_data.isnull().sum()/Employee_survey_data.shape[0]"
   ]
  },
  {
   "cell_type": "code",
   "execution_count": 8,
   "id": "7aa10880",
   "metadata": {},
   "outputs": [
    {
     "name": "stdout",
     "output_type": "stream",
     "text": [
      "3.0\n",
      "3.0\n",
      "3.0\n"
     ]
    }
   ],
   "source": [
    "print(Employee_survey_data.EnvironmentSatisfaction.median())\n",
    "print(Employee_survey_data.JobSatisfaction.median())\n",
    "print(Employee_survey_data.WorkLifeBalance.median())"
   ]
  },
  {
   "cell_type": "code",
   "execution_count": 2,
   "id": "5de5f967",
   "metadata": {},
   "outputs": [
    {
     "name": "stdout",
     "output_type": "stream",
     "text": [
      "<class 'pandas.core.frame.DataFrame'>\n",
      "RangeIndex: 4410 entries, 0 to 4409\n",
      "Data columns (total 4 columns):\n",
      " #   Column                   Non-Null Count  Dtype  \n",
      "---  ------                   --------------  -----  \n",
      " 0   EmployeeID               4410 non-null   int64  \n",
      " 1   EnvironmentSatisfaction  4410 non-null   float64\n",
      " 2   JobSatisfaction          4410 non-null   float64\n",
      " 3   WorkLifeBalance          4410 non-null   float64\n",
      "dtypes: float64(3), int64(1)\n",
      "memory usage: 137.9 KB\n"
     ]
    }
   ],
   "source": [
    "Employee_survey_data.EnvironmentSatisfaction=Employee_survey_data.EnvironmentSatisfaction.fillna(3)\n",
    "Employee_survey_data.JobSatisfaction=Employee_survey_data.JobSatisfaction.fillna(3)\n",
    "Employee_survey_data.WorkLifeBalance=Employee_survey_data.WorkLifeBalance.fillna(3)\n",
    "Employee_survey_data.info()\n"
   ]
  },
  {
   "cell_type": "code",
   "execution_count": 22,
   "id": "e7827656",
   "metadata": {},
   "outputs": [
    {
     "data": {
      "text/html": [
       "<div>\n",
       "<style scoped>\n",
       "    .dataframe tbody tr th:only-of-type {\n",
       "        vertical-align: middle;\n",
       "    }\n",
       "\n",
       "    .dataframe tbody tr th {\n",
       "        vertical-align: top;\n",
       "    }\n",
       "\n",
       "    .dataframe thead th {\n",
       "        text-align: right;\n",
       "    }\n",
       "</style>\n",
       "<table border=\"1\" class=\"dataframe\">\n",
       "  <thead>\n",
       "    <tr style=\"text-align: right;\">\n",
       "      <th></th>\n",
       "      <th>EnvironmentSatisfaction</th>\n",
       "      <th>JobSatisfaction</th>\n",
       "      <th>WorkLifeBalance</th>\n",
       "    </tr>\n",
       "  </thead>\n",
       "  <tbody>\n",
       "    <tr>\n",
       "      <th>0</th>\n",
       "      <td>3.0</td>\n",
       "      <td>4.0</td>\n",
       "      <td>2.0</td>\n",
       "    </tr>\n",
       "    <tr>\n",
       "      <th>1</th>\n",
       "      <td>3.0</td>\n",
       "      <td>2.0</td>\n",
       "      <td>4.0</td>\n",
       "    </tr>\n",
       "    <tr>\n",
       "      <th>2</th>\n",
       "      <td>2.0</td>\n",
       "      <td>2.0</td>\n",
       "      <td>1.0</td>\n",
       "    </tr>\n",
       "    <tr>\n",
       "      <th>3</th>\n",
       "      <td>4.0</td>\n",
       "      <td>4.0</td>\n",
       "      <td>3.0</td>\n",
       "    </tr>\n",
       "    <tr>\n",
       "      <th>4</th>\n",
       "      <td>4.0</td>\n",
       "      <td>1.0</td>\n",
       "      <td>3.0</td>\n",
       "    </tr>\n",
       "  </tbody>\n",
       "</table>\n",
       "</div>"
      ],
      "text/plain": [
       "   EnvironmentSatisfaction  JobSatisfaction  WorkLifeBalance\n",
       "0                      3.0              4.0              2.0\n",
       "1                      3.0              2.0              4.0\n",
       "2                      2.0              2.0              1.0\n",
       "3                      4.0              4.0              3.0\n",
       "4                      4.0              1.0              3.0"
      ]
     },
     "execution_count": 22,
     "metadata": {},
     "output_type": "execute_result"
    }
   ],
   "source": [
    "Employee_survey_data=Employee_survey_data.drop(columns=['EmployeeID'])\n",
    "Employee_survey_data.head()"
   ]
  },
  {
   "cell_type": "code",
   "execution_count": 24,
   "id": "6ebc2a37",
   "metadata": {},
   "outputs": [
    {
     "data": {
      "text/plain": [
       "<AxesSubplot:>"
      ]
     },
     "execution_count": 24,
     "metadata": {},
     "output_type": "execute_result"
    },
    {
     "data": {
      "image/png": "[encoded data removed]",
      "text/plain": [
       "<Figure size 1500x500 with 2 Axes>"
      ]
     },
     "metadata": {},
     "output_type": "display_data"
    }
   ],
   "source": [
    "import seaborn as sns\n",
    "corr=Employee_survey_data.corr()\n",
    "plt.figure(figsize=(15,5))\n",
    "sns.heatmap(corr,xticklabels=corr.columns,yticklabels=corr.columns, linewidths=2, annot=True)"
   ]
  },
  {
   "cell_type": "code",
   "execution_count": 26,
   "id": "568d09c3",
   "metadata": {},
   "outputs": [
    {
     "data": {
      "text/plain": [
       "3.0    0.311791\n",
       "4.0    0.302494\n",
       "2.0    0.194104\n",
       "1.0    0.191610\n",
       "Name: EnvironmentSatisfaction, dtype: float64"
      ]
     },
     "execution_count": 26,
     "metadata": {},
     "output_type": "execute_result"
    }
   ],
   "source": [
    "Employee_survey_data.EnvironmentSatisfaction.value_counts(normalize=True)"
   ]
  },
  {
   "cell_type": "code",
   "execution_count": 27,
   "id": "98c43f07",
   "metadata": {},
   "outputs": [
    {
     "data": {
      "text/plain": [
       "4.0    0.309977\n",
       "3.0    0.304535\n",
       "1.0    0.195011\n",
       "2.0    0.190476\n",
       "Name: JobSatisfaction, dtype: float64"
      ]
     },
     "execution_count": 27,
     "metadata": {},
     "output_type": "execute_result"
    }
   ],
   "source": [
    "Employee_survey_data.JobSatisfaction.value_counts(normalize=True)"
   ]
  },
  {
   "cell_type": "code",
   "execution_count": 28,
   "id": "6e1c338b",
   "metadata": {},
   "outputs": [
    {
     "data": {
      "text/plain": [
       "3.0    0.611791\n",
       "2.0    0.231066\n",
       "4.0    0.102948\n",
       "1.0    0.054195\n",
       "Name: WorkLifeBalance, dtype: float64"
      ]
     },
     "execution_count": 28,
     "metadata": {},
     "output_type": "execute_result"
    }
   ],
   "source": [
    "Employee_survey_data.WorkLifeBalance.value_counts(normalize=True)"
   ]
  },
  {
   "cell_type": "code",
   "execution_count": null,
   "id": "5d6fe6e1",
   "metadata": {},
   "outputs": [],
   "source": []
  }
 ],
 "metadata": {
  "kernelspec": {
   "display_name": "Python 3 (ipykernel)",
   "language": "python",
   "name": "python3"
  },
  "language_info": {
   "codemirror_mode": {
    "name": "ipython",
    "version": 3
   },
   "file_extension": ".py",
   "mimetype": "text/x-python",
   "name": "python",
   "nbconvert_exporter": "python",
   "pygments_lexer": "ipython3",
   "version": "3.8.8"
  }
 },
 "nbformat": 4,
 "nbformat_minor": 5
}
