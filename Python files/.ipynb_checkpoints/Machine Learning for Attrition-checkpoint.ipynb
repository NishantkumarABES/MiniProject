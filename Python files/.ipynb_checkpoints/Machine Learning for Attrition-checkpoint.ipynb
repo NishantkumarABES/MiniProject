{
 "cells": [
  {
   "cell_type": "markdown",
   "id": "6e6d8e9d",
   "metadata": {},
   "source": [
    "# MODEL EVALUATION"
   ]
  },
  {
   "cell_type": "code",
   "execution_count": 1,
   "id": "b9bd4f1f",
   "metadata": {},
   "outputs": [],
   "source": [
    "# import required libraries\n",
    "import pandas as pd\n",
    "import numpy as np\n",
    "import sklearn as sk\n",
    "import matplotlib.pyplot as plt\n",
    "import seaborn as sns\n",
    "\n",
    "# fetching data from the system using pandas library.\n",
    "general_data=pd.read_csv(r\"D:\\User Data\\Desktop\\nishant\\foxmula\\1.hr-analytics-case-study\\general_data.csv\")"
   ]
  },
  {
   "cell_type": "code",
   "execution_count": 2,
   "id": "8346cddb",
   "metadata": {},
   "outputs": [],
   "source": [
    "#Removing the null values in dataset.\n",
    "a=general_data.NumCompaniesWorked.median()\n",
    "b=general_data.TotalWorkingYears.median()\n",
    "general_data.NumCompaniesWorked=general_data.NumCompaniesWorked.fillna(a)\n",
    "general_data.TotalWorkingYears=general_data.TotalWorkingYears.fillna(b)\n"
   ]
  },
  {
   "cell_type": "code",
   "execution_count": 3,
   "id": "a86ed59b",
   "metadata": {},
   "outputs": [
    {
     "data": {
      "text/html": [
       "<div>\n",
       "<style scoped>\n",
       "    .dataframe tbody tr th:only-of-type {\n",
       "        vertical-align: middle;\n",
       "    }\n",
       "\n",
       "    .dataframe tbody tr th {\n",
       "        vertical-align: top;\n",
       "    }\n",
       "\n",
       "    .dataframe thead th {\n",
       "        text-align: right;\n",
       "    }\n",
       "</style>\n",
       "<table border=\"1\" class=\"dataframe\">\n",
       "  <thead>\n",
       "    <tr style=\"text-align: right;\">\n",
       "      <th></th>\n",
       "      <th>Age</th>\n",
       "      <th>Attrition</th>\n",
       "      <th>BusinessTravel</th>\n",
       "      <th>Department</th>\n",
       "      <th>DistanceFromHome</th>\n",
       "      <th>Education</th>\n",
       "      <th>EducationField</th>\n",
       "      <th>EmployeeCount</th>\n",
       "      <th>EmployeeID</th>\n",
       "      <th>JobLevel</th>\n",
       "      <th>...</th>\n",
       "      <th>PercentSalaryHike</th>\n",
       "      <th>StandardHours</th>\n",
       "      <th>StockOptionLevel</th>\n",
       "      <th>TotalWorkingYears</th>\n",
       "      <th>TrainingTimesLastYear</th>\n",
       "      <th>YearsAtCompany</th>\n",
       "      <th>YearsSinceLastPromotion</th>\n",
       "      <th>YearsWithCurrManager</th>\n",
       "      <th>Gender_Female</th>\n",
       "      <th>Gender_Male</th>\n",
       "    </tr>\n",
       "  </thead>\n",
       "  <tbody>\n",
       "    <tr>\n",
       "      <th>0</th>\n",
       "      <td>51</td>\n",
       "      <td>No</td>\n",
       "      <td>Travel_Rarely</td>\n",
       "      <td>Sales</td>\n",
       "      <td>6</td>\n",
       "      <td>2</td>\n",
       "      <td>Life Sciences</td>\n",
       "      <td>1</td>\n",
       "      <td>1</td>\n",
       "      <td>1</td>\n",
       "      <td>...</td>\n",
       "      <td>11</td>\n",
       "      <td>8</td>\n",
       "      <td>0</td>\n",
       "      <td>1.0</td>\n",
       "      <td>6</td>\n",
       "      <td>1</td>\n",
       "      <td>0</td>\n",
       "      <td>0</td>\n",
       "      <td>1</td>\n",
       "      <td>0</td>\n",
       "    </tr>\n",
       "    <tr>\n",
       "      <th>1</th>\n",
       "      <td>31</td>\n",
       "      <td>Yes</td>\n",
       "      <td>Travel_Frequently</td>\n",
       "      <td>Research &amp; Development</td>\n",
       "      <td>10</td>\n",
       "      <td>1</td>\n",
       "      <td>Life Sciences</td>\n",
       "      <td>1</td>\n",
       "      <td>2</td>\n",
       "      <td>1</td>\n",
       "      <td>...</td>\n",
       "      <td>23</td>\n",
       "      <td>8</td>\n",
       "      <td>1</td>\n",
       "      <td>6.0</td>\n",
       "      <td>3</td>\n",
       "      <td>5</td>\n",
       "      <td>1</td>\n",
       "      <td>4</td>\n",
       "      <td>1</td>\n",
       "      <td>0</td>\n",
       "    </tr>\n",
       "    <tr>\n",
       "      <th>2</th>\n",
       "      <td>32</td>\n",
       "      <td>No</td>\n",
       "      <td>Travel_Frequently</td>\n",
       "      <td>Research &amp; Development</td>\n",
       "      <td>17</td>\n",
       "      <td>4</td>\n",
       "      <td>Other</td>\n",
       "      <td>1</td>\n",
       "      <td>3</td>\n",
       "      <td>4</td>\n",
       "      <td>...</td>\n",
       "      <td>15</td>\n",
       "      <td>8</td>\n",
       "      <td>3</td>\n",
       "      <td>5.0</td>\n",
       "      <td>2</td>\n",
       "      <td>5</td>\n",
       "      <td>0</td>\n",
       "      <td>3</td>\n",
       "      <td>0</td>\n",
       "      <td>1</td>\n",
       "    </tr>\n",
       "    <tr>\n",
       "      <th>3</th>\n",
       "      <td>38</td>\n",
       "      <td>No</td>\n",
       "      <td>Non-Travel</td>\n",
       "      <td>Research &amp; Development</td>\n",
       "      <td>2</td>\n",
       "      <td>5</td>\n",
       "      <td>Life Sciences</td>\n",
       "      <td>1</td>\n",
       "      <td>4</td>\n",
       "      <td>3</td>\n",
       "      <td>...</td>\n",
       "      <td>11</td>\n",
       "      <td>8</td>\n",
       "      <td>3</td>\n",
       "      <td>13.0</td>\n",
       "      <td>5</td>\n",
       "      <td>8</td>\n",
       "      <td>7</td>\n",
       "      <td>5</td>\n",
       "      <td>0</td>\n",
       "      <td>1</td>\n",
       "    </tr>\n",
       "    <tr>\n",
       "      <th>4</th>\n",
       "      <td>32</td>\n",
       "      <td>No</td>\n",
       "      <td>Travel_Rarely</td>\n",
       "      <td>Research &amp; Development</td>\n",
       "      <td>10</td>\n",
       "      <td>1</td>\n",
       "      <td>Medical</td>\n",
       "      <td>1</td>\n",
       "      <td>5</td>\n",
       "      <td>1</td>\n",
       "      <td>...</td>\n",
       "      <td>12</td>\n",
       "      <td>8</td>\n",
       "      <td>2</td>\n",
       "      <td>9.0</td>\n",
       "      <td>2</td>\n",
       "      <td>6</td>\n",
       "      <td>0</td>\n",
       "      <td>4</td>\n",
       "      <td>0</td>\n",
       "      <td>1</td>\n",
       "    </tr>\n",
       "  </tbody>\n",
       "</table>\n",
       "<p>5 rows × 25 columns</p>\n",
       "</div>"
      ],
      "text/plain": [
       "   Age Attrition     BusinessTravel              Department  DistanceFromHome  \\\n",
       "0   51        No      Travel_Rarely                   Sales                 6   \n",
       "1   31       Yes  Travel_Frequently  Research & Development                10   \n",
       "2   32        No  Travel_Frequently  Research & Development                17   \n",
       "3   38        No         Non-Travel  Research & Development                 2   \n",
       "4   32        No      Travel_Rarely  Research & Development                10   \n",
       "\n",
       "   Education EducationField  EmployeeCount  EmployeeID  JobLevel  ...  \\\n",
       "0          2  Life Sciences              1           1         1  ...   \n",
       "1          1  Life Sciences              1           2         1  ...   \n",
       "2          4          Other              1           3         4  ...   \n",
       "3          5  Life Sciences              1           4         3  ...   \n",
       "4          1        Medical              1           5         1  ...   \n",
       "\n",
       "  PercentSalaryHike StandardHours  StockOptionLevel  TotalWorkingYears  \\\n",
       "0                11             8                 0                1.0   \n",
       "1                23             8                 1                6.0   \n",
       "2                15             8                 3                5.0   \n",
       "3                11             8                 3               13.0   \n",
       "4                12             8                 2                9.0   \n",
       "\n",
       "  TrainingTimesLastYear  YearsAtCompany  YearsSinceLastPromotion  \\\n",
       "0                     6               1                        0   \n",
       "1                     3               5                        1   \n",
       "2                     2               5                        0   \n",
       "3                     5               8                        7   \n",
       "4                     2               6                        0   \n",
       "\n",
       "   YearsWithCurrManager  Gender_Female  Gender_Male  \n",
       "0                     0              1            0  \n",
       "1                     4              1            0  \n",
       "2                     3              0            1  \n",
       "3                     5              0            1  \n",
       "4                     4              0            1  \n",
       "\n",
       "[5 rows x 25 columns]"
      ]
     },
     "execution_count": 3,
     "metadata": {},
     "output_type": "execute_result"
    }
   ],
   "source": [
    "# convert categorical data to numerical value.\n",
    "general_data=pd.get_dummies(general_data,columns=['Gender'])\n",
    "general_data.head()"
   ]
  },
  {
   "cell_type": "code",
   "execution_count": 4,
   "id": "499d0ea2",
   "metadata": {},
   "outputs": [],
   "source": [
    "#selecting features for train the model.\n",
    "input_columns=[\"Age\",\"Education\",\"JobLevel\",\"MonthlyIncome\",\"DistanceFromHome\",\"PercentSalaryHike\",\"TotalWorkingYears\",\"TrainingTimesLastYear\",\"YearsAtCompany\",\"YearsSinceLastPromotion\",\"YearsWithCurrManager\"]\n",
    "#selecting the targeted feature.\n",
    "output_column=\"Attrition\""
   ]
  },
  {
   "cell_type": "code",
   "execution_count": 5,
   "id": "a9b79788",
   "metadata": {},
   "outputs": [
    {
     "name": "stdout",
     "output_type": "stream",
     "text": [
      "(4410, 11) (4410,)\n"
     ]
    }
   ],
   "source": [
    "#shape of training dataset.\n",
    "x=general_data.loc[:,input_columns]\n",
    "#shape of test dataset.\n",
    "y=general_data.loc[:,output_column]\n",
    "print(x.shape, y.shape)"
   ]
  },
  {
   "cell_type": "code",
   "execution_count": 6,
   "id": "d7586af5",
   "metadata": {},
   "outputs": [
    {
     "name": "stdout",
     "output_type": "stream",
     "text": [
      "(3087, 11)\n",
      "(1323, 11)\n",
      "(3087,)\n",
      "(1323,)\n"
     ]
    }
   ],
   "source": [
    "#Splitting the dataset in two parts.\n",
    "from sklearn.model_selection import train_test_split\n",
    "x_train,x_test,y_train,y_test=train_test_split(x, y, test_size=0.3, random_state=100, stratify=y)\n",
    "\n",
    "print (x_train.shape)\n",
    "print (y_train.shape)\n",
    "# shape of test dataset.\n",
    "print (x_test.shape)\n",
    "print (y_test.shape)\n"
   ]
  },
  {
   "cell_type": "markdown",
   "id": "6ecf6635",
   "metadata": {},
   "source": [
    "# Decision Tree"
   ]
  },
  {
   "cell_type": "code",
   "execution_count": 7,
   "id": "76f72147",
   "metadata": {},
   "outputs": [],
   "source": [
    "from sklearn.tree import DecisionTreeClassifier\n",
    "Dtree=DecisionTreeClassifier(criterion='gini', max_depth=10,random_state=121).fit(x_train,y_train)"
   ]
  },
  {
   "cell_type": "code",
   "execution_count": 8,
   "id": "68a5fc76",
   "metadata": {},
   "outputs": [
    {
     "name": "stdout",
     "output_type": "stream",
     "text": [
      "0.9164237123420796\n",
      "0.8798185941043084\n"
     ]
    }
   ],
   "source": [
    "print(Dtree.score(x_train,y_train))\n",
    "print(Dtree.score(x_test,y_test))"
   ]
  },
  {
   "cell_type": "code",
   "execution_count": 9,
   "id": "ef81bc7d",
   "metadata": {},
   "outputs": [
    {
     "name": "stdout",
     "output_type": "stream",
     "text": [
      "              precision    recall  f1-score   support\n",
      "\n",
      "          No       0.90      0.96      0.93      1110\n",
      "         Yes       0.70      0.44      0.54       213\n",
      "\n",
      "    accuracy                           0.88      1323\n",
      "   macro avg       0.80      0.70      0.74      1323\n",
      "weighted avg       0.87      0.88      0.87      1323\n",
      "\n"
     ]
    }
   ],
   "source": [
    "predictions=Dtree.predict(x_test)\n",
    "from sklearn.metrics import classification_report,confusion_matrix\n",
    "print(classification_report(y_test,predictions))"
   ]
  },
  {
   "cell_type": "code",
   "execution_count": 10,
   "id": "18b7d190",
   "metadata": {},
   "outputs": [
    {
     "name": "stdout",
     "output_type": "stream",
     "text": [
      "[[1071   39]\n",
      " [ 120   93]]\n"
     ]
    }
   ],
   "source": [
    "Dtree_Conf_Mat=confusion_matrix(y_test,predictions)\n",
    "print(Dtree_Conf_Mat)"
   ]
  },
  {
   "cell_type": "code",
   "execution_count": 11,
   "id": "cce193d4",
   "metadata": {},
   "outputs": [
    {
     "name": "stdout",
     "output_type": "stream",
     "text": [
      "0.8798185941043084\n"
     ]
    }
   ],
   "source": [
    "from sklearn.metrics import accuracy_score\n",
    "Accuracy_Dtree=accuracy_score(y_test,predictions)\n",
    "print(Accuracy_Dtree)"
   ]
  },
  {
   "cell_type": "code",
   "execution_count": 12,
   "id": "9afb1e22",
   "metadata": {},
   "outputs": [
    {
     "data": {
      "text/plain": [
       "[Text(0.378173828125, 0.9545454545454546, 'x[6] <= 1.5\\ngini = 0.271\\nsamples = 3087\\nvalue = [2589, 498]'),\n",
       " Text(0.154052734375, 0.8636363636363636, 'x[0] <= 33.5\\ngini = 0.499\\nsamples = 191\\nvalue = [92, 99]'),\n",
       " Text(0.10498046875, 0.7727272727272727, 'x[3] <= 112610.0\\ngini = 0.482\\nsamples = 165\\nvalue = [67, 98]'),\n",
       " Text(0.0458984375, 0.6818181818181818, 'x[3] <= 23140.0\\ngini = 0.45\\nsamples = 143\\nvalue = [49, 94]'),\n",
       " Text(0.015625, 0.5909090909090909, 'x[1] <= 2.5\\ngini = 0.298\\nsamples = 11\\nvalue = [9, 2]'),\n",
       " Text(0.0078125, 0.5, 'gini = 0.0\\nsamples = 2\\nvalue = [0, 2]'),\n",
       " Text(0.0234375, 0.5, 'gini = 0.0\\nsamples = 9\\nvalue = [9, 0]'),\n",
       " Text(0.076171875, 0.5909090909090909, 'x[0] <= 23.5\\ngini = 0.422\\nsamples = 132\\nvalue = [40, 92]'),\n",
       " Text(0.0390625, 0.5, 'x[0] <= 18.5\\ngini = 0.249\\nsamples = 55\\nvalue = [8, 47]'),\n",
       " Text(0.0234375, 0.4090909090909091, 'x[4] <= 4.0\\ngini = 0.457\\nsamples = 17\\nvalue = [6, 11]'),\n",
       " Text(0.015625, 0.3181818181818182, 'x[5] <= 20.0\\ngini = 0.26\\nsamples = 13\\nvalue = [2, 11]'),\n",
       " Text(0.0078125, 0.22727272727272727, 'gini = 0.0\\nsamples = 11\\nvalue = [0, 11]'),\n",
       " Text(0.0234375, 0.22727272727272727, 'gini = 0.0\\nsamples = 2\\nvalue = [2, 0]'),\n",
       " Text(0.03125, 0.3181818181818182, 'gini = 0.0\\nsamples = 4\\nvalue = [4, 0]'),\n",
       " Text(0.0546875, 0.4090909090909091, 'x[3] <= 106255.0\\ngini = 0.1\\nsamples = 38\\nvalue = [2, 36]'),\n",
       " Text(0.046875, 0.3181818181818182, 'gini = 0.0\\nsamples = 36\\nvalue = [0, 36]'),\n",
       " Text(0.0625, 0.3181818181818182, 'gini = 0.0\\nsamples = 2\\nvalue = [2, 0]'),\n",
       " Text(0.11328125, 0.5, 'x[3] <= 42410.0\\ngini = 0.486\\nsamples = 77\\nvalue = [32, 45]'),\n",
       " Text(0.0859375, 0.4090909090909091, 'x[8] <= 0.5\\ngini = 0.298\\nsamples = 33\\nvalue = [6, 27]'),\n",
       " Text(0.078125, 0.3181818181818182, 'gini = 0.0\\nsamples = 3\\nvalue = [3, 0]'),\n",
       " Text(0.09375, 0.3181818181818182, 'x[5] <= 23.5\\ngini = 0.18\\nsamples = 30\\nvalue = [3, 27]'),\n",
       " Text(0.0859375, 0.22727272727272727, 'x[3] <= 32530.0\\ngini = 0.069\\nsamples = 28\\nvalue = [1, 27]'),\n",
       " Text(0.078125, 0.13636363636363635, 'gini = 0.0\\nsamples = 25\\nvalue = [0, 25]'),\n",
       " Text(0.09375, 0.13636363636363635, 'x[2] <= 1.5\\ngini = 0.444\\nsamples = 3\\nvalue = [1, 2]'),\n",
       " Text(0.0859375, 0.045454545454545456, 'gini = 0.0\\nsamples = 1\\nvalue = [1, 0]'),\n",
       " Text(0.1015625, 0.045454545454545456, 'gini = 0.0\\nsamples = 2\\nvalue = [0, 2]'),\n",
       " Text(0.1015625, 0.22727272727272727, 'gini = 0.0\\nsamples = 2\\nvalue = [2, 0]'),\n",
       " Text(0.140625, 0.4090909090909091, 'x[2] <= 3.5\\ngini = 0.483\\nsamples = 44\\nvalue = [26, 18]'),\n",
       " Text(0.1328125, 0.3181818181818182, 'x[4] <= 11.5\\ngini = 0.401\\nsamples = 36\\nvalue = [26, 10]'),\n",
       " Text(0.1171875, 0.22727272727272727, 'x[1] <= 1.5\\ngini = 0.252\\nsamples = 27\\nvalue = [23, 4]'),\n",
       " Text(0.109375, 0.13636363636363635, 'gini = 0.0\\nsamples = 2\\nvalue = [0, 2]'),\n",
       " Text(0.125, 0.13636363636363635, 'x[3] <= 63965.0\\ngini = 0.147\\nsamples = 25\\nvalue = [23, 2]'),\n",
       " Text(0.1171875, 0.045454545454545456, 'gini = 0.0\\nsamples = 19\\nvalue = [19, 0]'),\n",
       " Text(0.1328125, 0.045454545454545456, 'gini = 0.444\\nsamples = 6\\nvalue = [4, 2]'),\n",
       " Text(0.1484375, 0.22727272727272727, 'x[5] <= 17.5\\ngini = 0.444\\nsamples = 9\\nvalue = [3, 6]'),\n",
       " Text(0.140625, 0.13636363636363635, 'gini = 0.0\\nsamples = 6\\nvalue = [0, 6]'),\n",
       " Text(0.15625, 0.13636363636363635, 'gini = 0.0\\nsamples = 3\\nvalue = [3, 0]'),\n",
       " Text(0.1484375, 0.3181818181818182, 'gini = 0.0\\nsamples = 8\\nvalue = [0, 8]'),\n",
       " Text(0.1640625, 0.6818181818181818, 'x[9] <= 0.5\\ngini = 0.298\\nsamples = 22\\nvalue = [18, 4]'),\n",
       " Text(0.15625, 0.5909090909090909, 'x[4] <= 13.0\\ngini = 0.18\\nsamples = 20\\nvalue = [18, 2]'),\n",
       " Text(0.1484375, 0.5, 'gini = 0.0\\nsamples = 16\\nvalue = [16, 0]'),\n",
       " Text(0.1640625, 0.5, 'x[7] <= 2.5\\ngini = 0.5\\nsamples = 4\\nvalue = [2, 2]'),\n",
       " Text(0.15625, 0.4090909090909091, 'gini = 0.0\\nsamples = 2\\nvalue = [2, 0]'),\n",
       " Text(0.171875, 0.4090909090909091, 'gini = 0.0\\nsamples = 2\\nvalue = [0, 2]'),\n",
       " Text(0.171875, 0.5909090909090909, 'gini = 0.0\\nsamples = 2\\nvalue = [0, 2]'),\n",
       " Text(0.203125, 0.7727272727272727, 'x[3] <= 25425.0\\ngini = 0.074\\nsamples = 26\\nvalue = [25, 1]'),\n",
       " Text(0.1953125, 0.6818181818181818, 'x[4] <= 2.5\\ngini = 0.375\\nsamples = 4\\nvalue = [3, 1]'),\n",
       " Text(0.1875, 0.5909090909090909, 'gini = 0.0\\nsamples = 1\\nvalue = [0, 1]'),\n",
       " Text(0.203125, 0.5909090909090909, 'gini = 0.0\\nsamples = 3\\nvalue = [3, 0]'),\n",
       " Text(0.2109375, 0.6818181818181818, 'gini = 0.0\\nsamples = 22\\nvalue = [22, 0]'),\n",
       " Text(0.602294921875, 0.8636363636363636, 'x[8] <= 2.5\\ngini = 0.238\\nsamples = 2896\\nvalue = [2497, 399]'),\n",
       " Text(0.39208984375, 0.7727272727272727, 'x[0] <= 39.5\\ngini = 0.354\\nsamples = 526\\nvalue = [405, 121]'),\n",
       " Text(0.3095703125, 0.6818181818181818, 'x[4] <= 15.5\\ngini = 0.433\\nsamples = 313\\nvalue = [214, 99]'),\n",
       " Text(0.255859375, 0.5909090909090909, 'x[5] <= 18.5\\ngini = 0.467\\nsamples = 237\\nvalue = [149, 88]'),\n",
       " Text(0.22265625, 0.5, 'x[1] <= 4.5\\ngini = 0.441\\nsamples = 195\\nvalue = [131, 64]'),\n",
       " Text(0.21484375, 0.4090909090909091, 'x[0] <= 38.5\\ngini = 0.428\\nsamples = 190\\nvalue = [131, 59]'),\n",
       " Text(0.1953125, 0.3181818181818182, 'x[2] <= 1.5\\ngini = 0.402\\nsamples = 172\\nvalue = [124, 48]'),\n",
       " Text(0.1796875, 0.22727272727272727, 'x[10] <= 0.5\\ngini = 0.212\\nsamples = 58\\nvalue = [51, 7]'),\n",
       " Text(0.171875, 0.13636363636363635, 'x[0] <= 37.5\\ngini = 0.393\\nsamples = 26\\nvalue = [19, 7]'),\n",
       " Text(0.1640625, 0.045454545454545456, 'gini = 0.484\\nsamples = 17\\nvalue = [10, 7]'),\n",
       " Text(0.1796875, 0.045454545454545456, 'gini = 0.0\\nsamples = 9\\nvalue = [9, 0]'),\n",
       " Text(0.1875, 0.13636363636363635, 'gini = 0.0\\nsamples = 32\\nvalue = [32, 0]'),\n",
       " Text(0.2109375, 0.22727272727272727, 'x[4] <= 10.5\\ngini = 0.461\\nsamples = 114\\nvalue = [73, 41]'),\n",
       " Text(0.203125, 0.13636363636363635, 'x[3] <= 39440.0\\ngini = 0.438\\nsamples = 108\\nvalue = [73, 35]'),\n",
       " Text(0.1953125, 0.045454545454545456, 'gini = 0.5\\nsamples = 35\\nvalue = [17, 18]'),\n",
       " Text(0.2109375, 0.045454545454545456, 'gini = 0.357\\nsamples = 73\\nvalue = [56, 17]'),\n",
       " Text(0.21875, 0.13636363636363635, 'gini = 0.0\\nsamples = 6\\nvalue = [0, 6]'),\n",
       " Text(0.234375, 0.3181818181818182, 'x[8] <= 1.5\\ngini = 0.475\\nsamples = 18\\nvalue = [7, 11]'),\n",
       " Text(0.2265625, 0.22727272727272727, 'gini = 0.0\\nsamples = 8\\nvalue = [0, 8]'),\n",
       " Text(0.2421875, 0.22727272727272727, 'x[1] <= 3.5\\ngini = 0.42\\nsamples = 10\\nvalue = [7, 3]'),\n",
       " Text(0.234375, 0.13636363636363635, 'gini = 0.0\\nsamples = 7\\nvalue = [7, 0]'),\n",
       " Text(0.25, 0.13636363636363635, 'gini = 0.0\\nsamples = 3\\nvalue = [0, 3]'),\n",
       " Text(0.23046875, 0.4090909090909091, 'gini = 0.0\\nsamples = 5\\nvalue = [0, 5]'),\n",
       " Text(0.2890625, 0.5, 'x[3] <= 65765.0\\ngini = 0.49\\nsamples = 42\\nvalue = [18, 24]'),\n",
       " Text(0.2734375, 0.4090909090909091, 'x[6] <= 4.5\\ngini = 0.4\\nsamples = 29\\nvalue = [8, 21]'),\n",
       " Text(0.265625, 0.3181818181818182, 'x[4] <= 2.5\\ngini = 0.494\\nsamples = 18\\nvalue = [8, 10]'),\n",
       " Text(0.2578125, 0.22727272727272727, 'gini = 0.0\\nsamples = 6\\nvalue = [6, 0]'),\n",
       " Text(0.2734375, 0.22727272727272727, 'x[8] <= 0.5\\ngini = 0.278\\nsamples = 12\\nvalue = [2, 10]'),\n",
       " Text(0.265625, 0.13636363636363635, 'gini = 0.0\\nsamples = 2\\nvalue = [2, 0]'),\n",
       " Text(0.28125, 0.13636363636363635, 'gini = 0.0\\nsamples = 10\\nvalue = [0, 10]'),\n",
       " Text(0.28125, 0.3181818181818182, 'gini = 0.0\\nsamples = 11\\nvalue = [0, 11]'),\n",
       " Text(0.3046875, 0.4090909090909091, 'x[4] <= 6.0\\ngini = 0.355\\nsamples = 13\\nvalue = [10, 3]'),\n",
       " Text(0.296875, 0.3181818181818182, 'gini = 0.0\\nsamples = 3\\nvalue = [0, 3]'),\n",
       " Text(0.3125, 0.3181818181818182, 'gini = 0.0\\nsamples = 10\\nvalue = [10, 0]'),\n",
       " Text(0.36328125, 0.5909090909090909, 'x[1] <= 2.5\\ngini = 0.248\\nsamples = 76\\nvalue = [65, 11]'),\n",
       " Text(0.34375, 0.5, 'x[4] <= 22.5\\ngini = 0.435\\nsamples = 25\\nvalue = [17, 8]'),\n",
       " Text(0.3359375, 0.4090909090909091, 'x[6] <= 3.5\\ngini = 0.444\\nsamples = 12\\nvalue = [4, 8]'),\n",
       " Text(0.328125, 0.3181818181818182, 'x[2] <= 2.5\\ngini = 0.32\\nsamples = 5\\nvalue = [4, 1]'),\n",
       " Text(0.3203125, 0.22727272727272727, 'gini = 0.0\\nsamples = 4\\nvalue = [4, 0]'),\n",
       " Text(0.3359375, 0.22727272727272727, 'gini = 0.0\\nsamples = 1\\nvalue = [0, 1]'),\n",
       " Text(0.34375, 0.3181818181818182, 'gini = 0.0\\nsamples = 7\\nvalue = [0, 7]'),\n",
       " Text(0.3515625, 0.4090909090909091, 'gini = 0.0\\nsamples = 13\\nvalue = [13, 0]'),\n",
       " Text(0.3828125, 0.5, 'x[3] <= 147910.0\\ngini = 0.111\\nsamples = 51\\nvalue = [48, 3]'),\n",
       " Text(0.375, 0.4090909090909091, 'x[3] <= 86615.0\\ngini = 0.077\\nsamples = 50\\nvalue = [48, 2]'),\n",
       " Text(0.359375, 0.3181818181818182, 'x[7] <= 3.5\\ngini = 0.043\\nsamples = 45\\nvalue = [44, 1]'),\n",
       " Text(0.3515625, 0.22727272727272727, 'gini = 0.0\\nsamples = 35\\nvalue = [35, 0]'),\n",
       " Text(0.3671875, 0.22727272727272727, 'x[4] <= 19.5\\ngini = 0.18\\nsamples = 10\\nvalue = [9, 1]'),\n",
       " Text(0.359375, 0.13636363636363635, 'gini = 0.0\\nsamples = 1\\nvalue = [0, 1]'),\n",
       " Text(0.375, 0.13636363636363635, 'gini = 0.0\\nsamples = 9\\nvalue = [9, 0]'),\n",
       " Text(0.390625, 0.3181818181818182, 'x[10] <= 0.5\\ngini = 0.32\\nsamples = 5\\nvalue = [4, 1]'),\n",
       " Text(0.3828125, 0.22727272727272727, 'gini = 0.0\\nsamples = 1\\nvalue = [0, 1]'),\n",
       " Text(0.3984375, 0.22727272727272727, 'gini = 0.0\\nsamples = 4\\nvalue = [4, 0]'),\n",
       " Text(0.390625, 0.4090909090909091, 'gini = 0.0\\nsamples = 1\\nvalue = [0, 1]'),\n",
       " Text(0.474609375, 0.6818181818181818, 'x[6] <= 5.5\\ngini = 0.185\\nsamples = 213\\nvalue = [191, 22]'),\n",
       " Text(0.4375, 0.5909090909090909, 'x[5] <= 15.0\\ngini = 0.452\\nsamples = 29\\nvalue = [19, 10]'),\n",
       " Text(0.421875, 0.5, 'x[0] <= 43.5\\ngini = 0.459\\nsamples = 14\\nvalue = [5, 9]'),\n",
       " Text(0.4140625, 0.4090909090909091, 'gini = 0.0\\nsamples = 3\\nvalue = [3, 0]'),\n",
       " Text(0.4296875, 0.4090909090909091, 'x[0] <= 48.5\\ngini = 0.298\\nsamples = 11\\nvalue = [2, 9]'),\n",
       " Text(0.421875, 0.3181818181818182, 'x[1] <= 3.0\\ngini = 0.48\\nsamples = 5\\nvalue = [2, 3]'),\n",
       " Text(0.4140625, 0.22727272727272727, 'gini = 0.0\\nsamples = 2\\nvalue = [2, 0]'),\n",
       " Text(0.4296875, 0.22727272727272727, 'gini = 0.0\\nsamples = 3\\nvalue = [0, 3]'),\n",
       " Text(0.4375, 0.3181818181818182, 'gini = 0.0\\nsamples = 6\\nvalue = [0, 6]'),\n",
       " Text(0.453125, 0.5, 'x[3] <= 132000.0\\ngini = 0.124\\nsamples = 15\\nvalue = [14, 1]'),\n",
       " Text(0.4453125, 0.4090909090909091, 'gini = 0.0\\nsamples = 14\\nvalue = [14, 0]'),\n",
       " Text(0.4609375, 0.4090909090909091, 'gini = 0.0\\nsamples = 1\\nvalue = [0, 1]'),\n",
       " Text(0.51171875, 0.5909090909090909, 'x[3] <= 45735.0\\ngini = 0.122\\nsamples = 184\\nvalue = [172, 12]'),\n",
       " Text(0.484375, 0.5, 'x[7] <= 3.5\\ngini = 0.022\\nsamples = 89\\nvalue = [88, 1]'),\n",
       " Text(0.4765625, 0.4090909090909091, 'gini = 0.0\\nsamples = 73\\nvalue = [73, 0]'),\n",
       " Text(0.4921875, 0.4090909090909091, 'x[0] <= 50.5\\ngini = 0.117\\nsamples = 16\\nvalue = [15, 1]'),\n",
       " Text(0.484375, 0.3181818181818182, 'gini = 0.0\\nsamples = 14\\nvalue = [14, 0]'),\n",
       " Text(0.5, 0.3181818181818182, 'x[1] <= 3.5\\ngini = 0.5\\nsamples = 2\\nvalue = [1, 1]'),\n",
       " Text(0.4921875, 0.22727272727272727, 'gini = 0.0\\nsamples = 1\\nvalue = [0, 1]'),\n",
       " Text(0.5078125, 0.22727272727272727, 'gini = 0.0\\nsamples = 1\\nvalue = [1, 0]'),\n",
       " Text(0.5390625, 0.5, 'x[3] <= 46660.0\\ngini = 0.205\\nsamples = 95\\nvalue = [84, 11]'),\n",
       " Text(0.53125, 0.4090909090909091, 'gini = 0.0\\nsamples = 2\\nvalue = [0, 2]'),\n",
       " Text(0.546875, 0.4090909090909091, 'x[6] <= 7.5\\ngini = 0.175\\nsamples = 93\\nvalue = [84, 9]'),\n",
       " Text(0.53125, 0.3181818181818182, 'x[3] <= 80005.0\\ngini = 0.401\\nsamples = 18\\nvalue = [13, 5]'),\n",
       " Text(0.5234375, 0.22727272727272727, 'x[10] <= 1.0\\ngini = 0.408\\nsamples = 7\\nvalue = [2, 5]'),\n",
       " Text(0.515625, 0.13636363636363635, 'gini = 0.0\\nsamples = 4\\nvalue = [0, 4]'),\n",
       " Text(0.53125, 0.13636363636363635, 'x[7] <= 2.5\\ngini = 0.444\\nsamples = 3\\nvalue = [2, 1]'),\n",
       " Text(0.5234375, 0.045454545454545456, 'gini = 0.0\\nsamples = 2\\nvalue = [2, 0]'),\n",
       " Text(0.5390625, 0.045454545454545456, 'gini = 0.0\\nsamples = 1\\nvalue = [0, 1]'),\n",
       " Text(0.5390625, 0.22727272727272727, 'gini = 0.0\\nsamples = 11\\nvalue = [11, 0]'),\n",
       " Text(0.5625, 0.3181818181818182, 'x[6] <= 18.5\\ngini = 0.101\\nsamples = 75\\nvalue = [71, 4]'),\n",
       " Text(0.5546875, 0.22727272727272727, 'gini = 0.0\\nsamples = 46\\nvalue = [46, 0]'),\n",
       " Text(0.5703125, 0.22727272727272727, 'x[0] <= 40.5\\ngini = 0.238\\nsamples = 29\\nvalue = [25, 4]'),\n",
       " Text(0.5625, 0.13636363636363635, 'gini = 0.0\\nsamples = 2\\nvalue = [0, 2]'),\n",
       " Text(0.578125, 0.13636363636363635, 'x[6] <= 19.5\\ngini = 0.137\\nsamples = 27\\nvalue = [25, 2]'),\n",
       " Text(0.5703125, 0.045454545454545456, 'gini = 0.444\\nsamples = 6\\nvalue = [4, 2]'),\n",
       " Text(0.5859375, 0.045454545454545456, 'gini = 0.0\\nsamples = 21\\nvalue = [21, 0]'),\n",
       " Text(0.8125, 0.7727272727272727, 'x[6] <= 39.0\\ngini = 0.207\\nsamples = 2370\\nvalue = [2092, 278]'),\n",
       " Text(0.8046875, 0.6818181818181818, 'x[0] <= 33.5\\ngini = 0.205\\nsamples = 2366\\nvalue = [2092, 274]'),\n",
       " Text(0.7255859375, 0.5909090909090909, 'x[3] <= 196980.0\\ngini = 0.268\\nsamples = 848\\nvalue = [713, 135]'),\n",
       " Text(0.7177734375, 0.5, 'x[9] <= 5.5\\ngini = 0.264\\nsamples = 845\\nvalue = [713, 132]'),\n",
       " Text(0.673828125, 0.4090909090909091, 'x[3] <= 188955.0\\ngini = 0.242\\nsamples = 744\\nvalue = [639, 105]'),\n",
       " Text(0.64453125, 0.3181818181818182, 'x[4] <= 26.5\\ngini = 0.232\\nsamples = 725\\nvalue = [628, 97]'),\n",
       " Text(0.625, 0.22727272727272727, 'x[3] <= 48155.0\\ngini = 0.221\\nsamples = 697\\nvalue = [609, 88]'),\n",
       " Text(0.609375, 0.13636363636363635, 'x[5] <= 18.5\\ngini = 0.159\\nsamples = 345\\nvalue = [315, 30]'),\n",
       " Text(0.6015625, 0.045454545454545456, 'gini = 0.097\\nsamples = 274\\nvalue = [260, 14]'),\n",
       " Text(0.6171875, 0.045454545454545456, 'gini = 0.349\\nsamples = 71\\nvalue = [55, 16]'),\n",
       " Text(0.640625, 0.13636363636363635, 'x[3] <= 86805.0\\ngini = 0.275\\nsamples = 352\\nvalue = [294, 58]'),\n",
       " Text(0.6328125, 0.045454545454545456, 'gini = 0.362\\nsamples = 194\\nvalue = [148, 46]'),\n",
       " Text(0.6484375, 0.045454545454545456, 'gini = 0.14\\nsamples = 158\\nvalue = [146, 12]'),\n",
       " Text(0.6640625, 0.22727272727272727, 'x[7] <= 1.5\\ngini = 0.436\\nsamples = 28\\nvalue = [19, 9]'),\n",
       " Text(0.65625, 0.13636363636363635, 'gini = 0.0\\nsamples = 7\\nvalue = [0, 7]'),\n",
       " Text(0.671875, 0.13636363636363635, 'x[6] <= 4.5\\ngini = 0.172\\nsamples = 21\\nvalue = [19, 2]'),\n",
       " Text(0.6640625, 0.045454545454545456, 'gini = 0.0\\nsamples = 2\\nvalue = [0, 2]'),\n",
       " Text(0.6796875, 0.045454545454545456, 'gini = 0.0\\nsamples = 19\\nvalue = [19, 0]'),\n",
       " Text(0.703125, 0.3181818181818182, 'x[2] <= 2.5\\ngini = 0.488\\nsamples = 19\\nvalue = [11, 8]'),\n",
       " Text(0.6953125, 0.22727272727272727, 'x[4] <= 5.0\\ngini = 0.198\\nsamples = 9\\nvalue = [1, 8]'),\n",
       " Text(0.6875, 0.13636363636363635, 'gini = 0.0\\nsamples = 1\\nvalue = [1, 0]'),\n",
       " Text(0.703125, 0.13636363636363635, 'gini = 0.0\\nsamples = 8\\nvalue = [0, 8]'),\n",
       " Text(0.7109375, 0.22727272727272727, 'gini = 0.0\\nsamples = 10\\nvalue = [10, 0]'),\n",
       " Text(0.76171875, 0.4090909090909091, 'x[10] <= 6.5\\ngini = 0.392\\nsamples = 101\\nvalue = [74, 27]'),\n",
       " Text(0.734375, 0.3181818181818182, 'x[7] <= 4.5\\ngini = 0.142\\nsamples = 26\\nvalue = [24, 2]'),\n",
       " Text(0.7265625, 0.22727272727272727, 'gini = 0.0\\nsamples = 22\\nvalue = [22, 0]'),\n",
       " Text(0.7421875, 0.22727272727272727, 'x[1] <= 2.5\\ngini = 0.5\\nsamples = 4\\nvalue = [2, 2]'),\n",
       " Text(0.734375, 0.13636363636363635, 'gini = 0.0\\nsamples = 2\\nvalue = [2, 0]'),\n",
       " Text(0.75, 0.13636363636363635, 'gini = 0.0\\nsamples = 2\\nvalue = [0, 2]'),\n",
       " Text(0.7890625, 0.3181818181818182, 'x[10] <= 7.5\\ngini = 0.444\\nsamples = 75\\nvalue = [50, 25]'),\n",
       " Text(0.7734375, 0.22727272727272727, 'x[3] <= 29110.0\\ngini = 0.5\\nsamples = 43\\nvalue = [22, 21]'),\n",
       " Text(0.765625, 0.13636363636363635, 'gini = 0.0\\nsamples = 7\\nvalue = [0, 7]'),\n",
       " Text(0.78125, 0.13636363636363635, 'x[8] <= 9.5\\ngini = 0.475\\nsamples = 36\\nvalue = [22, 14]'),\n",
       " Text(0.7734375, 0.045454545454545456, 'gini = 0.375\\nsamples = 24\\nvalue = [18, 6]'),\n",
       " Text(0.7890625, 0.045454545454545456, 'gini = 0.444\\nsamples = 12\\nvalue = [4, 8]'),\n",
       " Text(0.8046875, 0.22727272727272727, 'x[0] <= 31.5\\ngini = 0.219\\nsamples = 32\\nvalue = [28, 4]'),\n",
       " Text(0.796875, 0.13636363636363635, 'gini = 0.0\\nsamples = 20\\nvalue = [20, 0]'),\n",
       " Text(0.8125, 0.13636363636363635, 'x[5] <= 15.5\\ngini = 0.444\\nsamples = 12\\nvalue = [8, 4]'),\n",
       " Text(0.8046875, 0.045454545454545456, 'gini = 0.32\\nsamples = 10\\nvalue = [8, 2]'),\n",
       " Text(0.8203125, 0.045454545454545456, 'gini = 0.0\\nsamples = 2\\nvalue = [0, 2]'),\n",
       " Text(0.7333984375, 0.5, 'gini = 0.0\\nsamples = 3\\nvalue = [0, 3]'),\n",
       " Text(0.8837890625, 0.5909090909090909, 'x[3] <= 20045.0\\ngini = 0.166\\nsamples = 1518\\nvalue = [1379, 139]'),\n",
       " Text(0.8359375, 0.5, 'x[0] <= 48.5\\ngini = 0.431\\nsamples = 35\\nvalue = [24, 11]'),\n",
       " Text(0.828125, 0.4090909090909091, 'x[3] <= 18815.0\\ngini = 0.245\\nsamples = 28\\nvalue = [24, 4]'),\n",
       " Text(0.8203125, 0.3181818181818182, 'gini = 0.0\\nsamples = 24\\nvalue = [24, 0]'),\n",
       " Text(0.8359375, 0.3181818181818182, 'gini = 0.0\\nsamples = 4\\nvalue = [0, 4]'),\n",
       " Text(0.84375, 0.4090909090909091, 'gini = 0.0\\nsamples = 7\\nvalue = [0, 7]'),\n",
       " Text(0.931640625, 0.5, 'x[5] <= 24.5\\ngini = 0.158\\nsamples = 1483\\nvalue = [1355, 128]'),\n",
       " Text(0.88671875, 0.4090909090909091, 'x[7] <= 0.5\\ngini = 0.15\\nsamples = 1464\\nvalue = [1344, 120]'),\n",
       " Text(0.8515625, 0.3181818181818182, 'x[3] <= 23330.0\\ngini = 0.359\\nsamples = 47\\nvalue = [36, 11]'),\n",
       " Text(0.84375, 0.22727272727272727, 'gini = 0.0\\nsamples = 2\\nvalue = [0, 2]'),\n",
       " Text(0.859375, 0.22727272727272727, 'x[5] <= 15.5\\ngini = 0.32\\nsamples = 45\\nvalue = [36, 9]'),\n",
       " Text(0.84375, 0.13636363636363635, 'x[0] <= 54.5\\ngini = 0.175\\nsamples = 31\\nvalue = [28, 3]'),\n",
       " Text(0.8359375, 0.045454545454545456, 'gini = 0.0\\nsamples = 25\\nvalue = [25, 0]'),\n",
       " Text(0.8515625, 0.045454545454545456, 'gini = 0.5\\nsamples = 6\\nvalue = [3, 3]'),\n",
       " Text(0.875, 0.13636363636363635, 'x[0] <= 39.0\\ngini = 0.49\\nsamples = 14\\nvalue = [8, 6]'),\n",
       " Text(0.8671875, 0.045454545454545456, 'gini = 0.0\\nsamples = 5\\nvalue = [5, 0]'),\n",
       " Text(0.8828125, 0.045454545454545456, 'gini = 0.444\\nsamples = 9\\nvalue = [3, 6]'),\n",
       " Text(0.921875, 0.3181818181818182, 'x[10] <= 0.5\\ngini = 0.142\\nsamples = 1417\\nvalue = [1308, 109]'),\n",
       " Text(0.8984375, 0.22727272727272727, 'x[9] <= 0.5\\ngini = 0.292\\nsamples = 79\\nvalue = [65, 14]'),\n",
       " Text(0.890625, 0.13636363636363635, 'gini = 0.0\\nsamples = 25\\nvalue = [25, 0]'),\n",
       " Text(0.90625, 0.13636363636363635, 'x[5] <= 11.5\\ngini = 0.384\\nsamples = 54\\nvalue = [40, 14]'),\n",
       " Text(0.8984375, 0.045454545454545456, 'gini = 0.0\\nsamples = 2\\nvalue = [0, 2]'),\n",
       " Text(0.9140625, 0.045454545454545456, 'gini = 0.355\\nsamples = 52\\nvalue = [40, 12]'),\n",
       " Text(0.9453125, 0.22727272727272727, 'x[4] <= 24.5\\ngini = 0.132\\nsamples = 1338\\nvalue = [1243, 95]'),\n",
       " Text(0.9375, 0.13636363636363635, 'x[7] <= 3.5\\ngini = 0.144\\nsamples = 1218\\nvalue = [1123, 95]'),\n",
       " Text(0.9296875, 0.045454545454545456, 'gini = 0.165\\nsamples = 959\\nvalue = [872, 87]'),\n",
       " Text(0.9453125, 0.045454545454545456, 'gini = 0.06\\nsamples = 259\\nvalue = [251, 8]'),\n",
       " Text(0.953125, 0.13636363636363635, 'gini = 0.0\\nsamples = 120\\nvalue = [120, 0]'),\n",
       " Text(0.9765625, 0.4090909090909091, 'x[1] <= 2.5\\ngini = 0.488\\nsamples = 19\\nvalue = [11, 8]'),\n",
       " Text(0.96875, 0.3181818181818182, 'gini = 0.0\\nsamples = 6\\nvalue = [6, 0]'),\n",
       " Text(0.984375, 0.3181818181818182, 'x[0] <= 41.0\\ngini = 0.473\\nsamples = 13\\nvalue = [5, 8]'),\n",
       " Text(0.9765625, 0.22727272727272727, 'x[10] <= 5.5\\ngini = 0.408\\nsamples = 7\\nvalue = [5, 2]'),\n",
       " Text(0.96875, 0.13636363636363635, 'gini = 0.0\\nsamples = 2\\nvalue = [0, 2]'),\n",
       " Text(0.984375, 0.13636363636363635, 'gini = 0.0\\nsamples = 5\\nvalue = [5, 0]'),\n",
       " Text(0.9921875, 0.22727272727272727, 'gini = 0.0\\nsamples = 6\\nvalue = [0, 6]'),\n",
       " Text(0.8203125, 0.6818181818181818, 'gini = 0.0\\nsamples = 4\\nvalue = [0, 4]')]"
      ]
     },
     "execution_count": 12,
     "metadata": {},
     "output_type": "execute_result"
    },
    {
     "data": {
      "image/png": "[encoded data removed]",
      "text/plain": [
       "<Figure size 640x480 with 1 Axes>"
      ]
     },
     "metadata": {},
     "output_type": "display_data"
    }
   ],
   "source": [
    "from sklearn import tree\n",
    "tree.plot_tree(Dtree.fit(x_train,y_train)) "
   ]
  },
  {
   "cell_type": "markdown",
   "id": "0b00ef8e",
   "metadata": {},
   "source": [
    "# Random Forest"
   ]
  },
  {
   "cell_type": "code",
   "execution_count": 13,
   "id": "418e57f6",
   "metadata": {},
   "outputs": [],
   "source": [
    "from sklearn.ensemble import RandomForestClassifier\n",
    "Rf=RandomForestClassifier(n_estimators=500).fit(x_train,y_train)"
   ]
  },
  {
   "cell_type": "code",
   "execution_count": 14,
   "id": "2b4a8896",
   "metadata": {},
   "outputs": [
    {
     "name": "stdout",
     "output_type": "stream",
     "text": [
      "1.0\n",
      "0.9894179894179894\n"
     ]
    }
   ],
   "source": [
    "print(Rf.score(x_train,y_train))\n",
    "print(Rf.score(x_test,y_test))"
   ]
  },
  {
   "cell_type": "code",
   "execution_count": 15,
   "id": "6ef6ad59",
   "metadata": {},
   "outputs": [
    {
     "name": "stdout",
     "output_type": "stream",
     "text": [
      "              precision    recall  f1-score   support\n",
      "\n",
      "          No       0.99      1.00      0.99      1110\n",
      "         Yes       0.99      0.95      0.97       213\n",
      "\n",
      "    accuracy                           0.99      1323\n",
      "   macro avg       0.99      0.97      0.98      1323\n",
      "weighted avg       0.99      0.99      0.99      1323\n",
      "\n"
     ]
    }
   ],
   "source": [
    "Rf_predictions= Rf.predict(x_test)\n",
    "print(classification_report(y_test,Rf_predictions))"
   ]
  },
  {
   "cell_type": "code",
   "execution_count": 16,
   "id": "9cadd8a3",
   "metadata": {},
   "outputs": [
    {
     "name": "stdout",
     "output_type": "stream",
     "text": [
      "[[1107    3]\n",
      " [  11  202]]\n"
     ]
    }
   ],
   "source": [
    "Rf_Conf_Mat=confusion_matrix(y_test,Rf_predictions)\n",
    "print(Rf_Conf_Mat)\n"
   ]
  },
  {
   "cell_type": "code",
   "execution_count": 17,
   "id": "441b585e",
   "metadata": {},
   "outputs": [
    {
     "name": "stdout",
     "output_type": "stream",
     "text": [
      "0.9894179894179894\n"
     ]
    }
   ],
   "source": [
    "Accuracy_Rf=accuracy_score(y_test,Rf_predictions)\n",
    "print(Accuracy_Rf)"
   ]
  },
  {
   "cell_type": "markdown",
   "id": "7e573aab",
   "metadata": {},
   "source": [
    "# Logistic regression"
   ]
  },
  {
   "cell_type": "code",
   "execution_count": 24,
   "id": "96335795",
   "metadata": {},
   "outputs": [
    {
     "name": "stdout",
     "output_type": "stream",
     "text": [
      "0.8386783284742468\n",
      "0.8390022675736961\n"
     ]
    }
   ],
   "source": [
    "from sklearn.linear_model import LogisticRegression\n",
    "logi_reg=LogisticRegression().fit(x_train,y_train)\n",
    "print(logi_reg.score(x_train,y_train))\n",
    "print(logi_reg.score(x_test,y_test))"
   ]
  },
  {
   "cell_type": "code",
   "execution_count": 29,
   "id": "33804975",
   "metadata": {},
   "outputs": [
    {
     "name": "stdout",
     "output_type": "stream",
     "text": [
      "              precision    recall  f1-score   support\n",
      "\n",
      "          No       0.84      1.00      0.91      1110\n",
      "         Yes       0.00      0.00      0.00       213\n",
      "\n",
      "    accuracy                           0.84      1323\n",
      "   macro avg       0.42      0.50      0.46      1323\n",
      "weighted avg       0.70      0.84      0.77      1323\n",
      "\n",
      "              precision    recall  f1-score   support\n",
      "\n",
      "          No       0.84      1.00      0.91      2589\n",
      "         Yes       0.00      0.00      0.00       498\n",
      "\n",
      "    accuracy                           0.84      3087\n",
      "   macro avg       0.42      0.50      0.46      3087\n",
      "weighted avg       0.70      0.84      0.77      3087\n",
      "\n"
     ]
    },
    {
     "name": "stderr",
     "output_type": "stream",
     "text": [
      "C:\\Users\\admin\\AppData\\Local\\Programs\\Python\\Python38\\lib\\site-packages\\sklearn\\metrics\\_classification.py:1344: UndefinedMetricWarning: Precision and F-score are ill-defined and being set to 0.0 in labels with no predicted samples. Use `zero_division` parameter to control this behavior.\n",
      "  _warn_prf(average, modifier, msg_start, len(result))\n",
      "C:\\Users\\admin\\AppData\\Local\\Programs\\Python\\Python38\\lib\\site-packages\\sklearn\\metrics\\_classification.py:1344: UndefinedMetricWarning: Precision and F-score are ill-defined and being set to 0.0 in labels with no predicted samples. Use `zero_division` parameter to control this behavior.\n",
      "  _warn_prf(average, modifier, msg_start, len(result))\n",
      "C:\\Users\\admin\\AppData\\Local\\Programs\\Python\\Python38\\lib\\site-packages\\sklearn\\metrics\\_classification.py:1344: UndefinedMetricWarning: Precision and F-score are ill-defined and being set to 0.0 in labels with no predicted samples. Use `zero_division` parameter to control this behavior.\n",
      "  _warn_prf(average, modifier, msg_start, len(result))\n",
      "C:\\Users\\admin\\AppData\\Local\\Programs\\Python\\Python38\\lib\\site-packages\\sklearn\\metrics\\_classification.py:1344: UndefinedMetricWarning: Precision and F-score are ill-defined and being set to 0.0 in labels with no predicted samples. Use `zero_division` parameter to control this behavior.\n",
      "  _warn_prf(average, modifier, msg_start, len(result))\n",
      "C:\\Users\\admin\\AppData\\Local\\Programs\\Python\\Python38\\lib\\site-packages\\sklearn\\metrics\\_classification.py:1344: UndefinedMetricWarning: Precision and F-score are ill-defined and being set to 0.0 in labels with no predicted samples. Use `zero_division` parameter to control this behavior.\n",
      "  _warn_prf(average, modifier, msg_start, len(result))\n",
      "C:\\Users\\admin\\AppData\\Local\\Programs\\Python\\Python38\\lib\\site-packages\\sklearn\\metrics\\_classification.py:1344: UndefinedMetricWarning: Precision and F-score are ill-defined and being set to 0.0 in labels with no predicted samples. Use `zero_division` parameter to control this behavior.\n",
      "  _warn_prf(average, modifier, msg_start, len(result))\n"
     ]
    }
   ],
   "source": [
    "lr_predictions_test=logi_reg.predict(x_test)\n",
    "lr_predictions_train=logi_reg.predict(x_train)\n",
    "print(classification_report(y_test,lr_predictions_test))\n",
    "print(classification_report(y_train,lr_predictions_train))"
   ]
  },
  {
   "cell_type": "code",
   "execution_count": 30,
   "id": "aa35c295",
   "metadata": {},
   "outputs": [
    {
     "name": "stdout",
     "output_type": "stream",
     "text": [
      "0.8390022675736961\n",
      "0.8386783284742468\n"
     ]
    }
   ],
   "source": [
    "Accuracy_lr_test=accuracy_score(y_test,lr_predictions_test)\n",
    "Accuracy_lr_train=accuracy_score(y_train,lr_predictions_train)\n",
    "print(Accuracy_lr_test)\n",
    "print(Accuracy_lr_train)"
   ]
  },
  {
   "cell_type": "code",
   "execution_count": null,
   "id": "d2707935",
   "metadata": {},
   "outputs": [],
   "source": []
  },
  {
   "cell_type": "code",
   "execution_count": null,
   "id": "2a3aabb3",
   "metadata": {},
   "outputs": [],
   "source": []
  },
  {
   "cell_type": "code",
   "execution_count": null,
   "id": "14555612",
   "metadata": {},
   "outputs": [],
   "source": []
  },
  {
   "cell_type": "code",
   "execution_count": null,
   "id": "0ea6d3e1",
   "metadata": {},
   "outputs": [],
   "source": []
  },
  {
   "cell_type": "code",
   "execution_count": null,
   "id": "1d8690f9",
   "metadata": {},
   "outputs": [],
   "source": []
  },
  {
   "cell_type": "code",
   "execution_count": null,
   "id": "098bc158",
   "metadata": {},
   "outputs": [],
   "source": []
  },
  {
   "cell_type": "code",
   "execution_count": null,
   "id": "50afeeb7",
   "metadata": {},
   "outputs": [],
   "source": []
  },
  {
   "cell_type": "code",
   "execution_count": null,
   "id": "f4d551ac",
   "metadata": {},
   "outputs": [],
   "source": []
  },
  {
   "cell_type": "code",
   "execution_count": null,
   "id": "cf8cb003",
   "metadata": {},
   "outputs": [],
   "source": []
  },
  {
   "cell_type": "code",
   "execution_count": 19,
   "id": "627dcfe9",
   "metadata": {},
   "outputs": [
    {
     "data": {
      "text/plain": [
       "'\\ncorr=general_data.corr()\\nplt.figure(figsize=(15,5))\\nsns.heatmap(corr,xticklabels=corr.columns,yticklabels=corr.columns, linewidths=2, annot=True)\\n'"
      ]
     },
     "execution_count": 19,
     "metadata": {},
     "output_type": "execute_result"
    }
   ],
   "source": [
    "'''\n",
    "corr=general_data.corr()\n",
    "plt.figure(figsize=(15,5))\n",
    "sns.heatmap(corr,xticklabels=corr.columns,yticklabels=corr.columns, linewidths=2, annot=True)\n",
    "'''"
   ]
  },
  {
   "cell_type": "code",
   "execution_count": null,
   "id": "4fe6dd65",
   "metadata": {},
   "outputs": [],
   "source": []
  }
 ],
 "metadata": {
  "kernelspec": {
   "display_name": "Python 3 (ipykernel)",
   "language": "python",
   "name": "python3"
  },
  "language_info": {
   "codemirror_mode": {
    "name": "ipython",
    "version": 3
   },
   "file_extension": ".py",
   "mimetype": "text/x-python",
   "name": "python",
   "nbconvert_exporter": "python",
   "pygments_lexer": "ipython3",
   "version": "3.8.8"
  }
 },
 "nbformat": 4,
 "nbformat_minor": 5
}
