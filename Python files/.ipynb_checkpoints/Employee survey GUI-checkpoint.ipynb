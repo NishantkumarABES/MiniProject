{
 "cells": [
  {
   "cell_type": "code",
   "execution_count": 12,
   "id": "fbd7dcea",
   "metadata": {},
   "outputs": [],
   "source": [
    "from PyQt5 import QtWidgets\n",
    "from PyQt5.QtWidgets import QApplication,QMainWindow\n",
    "import sys"
   ]
  },
  {
   "cell_type": "code",
   "execution_count": 19,
   "id": "70061aa5",
   "metadata": {},
   "outputs": [
    {
     "ename": "SystemExit",
     "evalue": "0",
     "output_type": "error",
     "traceback": [
      "An exception has occurred, use %tb to see the full traceback.\n",
      "\u001b[1;31mSystemExit\u001b[0m\u001b[1;31m:\u001b[0m 0\n"
     ]
    }
   ],
   "source": [
    "def window():\n",
    "    app = QApplication(sys.argv)\n",
    "    win = QMainWindow()\n",
    "    win.setGeometry(200,200,300,300)\n",
    "    win.setWindowTitle(\"Employee Survey\")\n",
    "    label=QtWidgets.QLabel(win)\n",
    "    label.setText(\"Employee Survey Form  \")\n",
    "    label.move(100,0)\n",
    "    win.show()\n",
    "    sys.exit(app.exec_())\n",
    "window()\n",
    "\n",
    "    \n",
    "    \n",
    "    "
   ]
  },
  {
   "cell_type": "code",
   "execution_count": null,
   "id": "443e602a",
   "metadata": {},
   "outputs": [],
   "source": []
  }
 ],
 "metadata": {
  "kernelspec": {
   "display_name": "Python 3 (ipykernel)",
   "language": "python",
   "name": "python3"
  },
  "language_info": {
   "codemirror_mode": {
    "name": "ipython",
    "version": 3
   },
   "file_extension": ".py",
   "mimetype": "text/x-python",
   "name": "python",
   "nbconvert_exporter": "python",
   "pygments_lexer": "ipython3",
   "version": "3.8.8"
  }
 },
 "nbformat": 4,
 "nbformat_minor": 5
}
